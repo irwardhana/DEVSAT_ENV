{
  "nbformat": 4,
  "nbformat_minor": 0,
  "metadata": {
    "colab": {
      "provenance": [],
      "authorship_tag": "ABX9TyPcSYZQcfAuolN1JRLx35YD",
      "include_colab_link": true
    },
    "kernelspec": {
      "name": "python3",
      "display_name": "Python 3"
    },
    "language_info": {
      "name": "python"
    }
  },
  "cells": [
    {
      "cell_type": "markdown",
      "metadata": {
        "id": "view-in-github",
        "colab_type": "text"
      },
      "source": [
        "<a href=\"https://colab.research.google.com/github/irwardhana/DEVSAT_ENV/blob/main/Colab_analisis_regresi_linear_menggunakan_PySpark_MLlib.ipynb\" target=\"_parent\"><img src=\"https://colab.research.google.com/assets/colab-badge.svg\" alt=\"Open In Colab\"/></a>"
      ]
    },
    {
      "cell_type": "code",
      "execution_count": 2,
      "metadata": {
        "colab": {
          "base_uri": "https://localhost:8080/",
          "height": 384
        },
        "id": "WOc8dIITumdX",
        "outputId": "1fefa5e6-4f30-4c79-e6f4-90e691982afd"
      },
      "outputs": [
        {
          "output_type": "error",
          "ename": "ModuleNotFoundError",
          "evalue": "No module named 'findspark'",
          "traceback": [
            "\u001b[0;31m---------------------------------------------------------------------------\u001b[0m",
            "\u001b[0;31mModuleNotFoundError\u001b[0m                       Traceback (most recent call last)",
            "\u001b[0;32m/tmp/ipython-input-1768805582.py\u001b[0m in \u001b[0;36m<cell line: 0>\u001b[0;34m()\u001b[0m\n\u001b[0;32m----> 1\u001b[0;31m \u001b[0;32mimport\u001b[0m \u001b[0mfindspark\u001b[0m\u001b[0;34m\u001b[0m\u001b[0;34m\u001b[0m\u001b[0m\n\u001b[0m\u001b[1;32m      2\u001b[0m \u001b[0mfindspark\u001b[0m\u001b[0;34m.\u001b[0m\u001b[0minit\u001b[0m\u001b[0;34m(\u001b[0m\u001b[0;34m)\u001b[0m\u001b[0;34m\u001b[0m\u001b[0;34m\u001b[0m\u001b[0m\n\u001b[1;32m      3\u001b[0m \u001b[0;34m\u001b[0m\u001b[0m\n\u001b[1;32m      4\u001b[0m \u001b[0;32mfrom\u001b[0m \u001b[0mpyspark\u001b[0m\u001b[0;34m.\u001b[0m\u001b[0msql\u001b[0m \u001b[0;32mimport\u001b[0m \u001b[0mSparkSession\u001b[0m\u001b[0;34m\u001b[0m\u001b[0;34m\u001b[0m\u001b[0m\n\u001b[1;32m      5\u001b[0m \u001b[0;32mfrom\u001b[0m \u001b[0mpyspark\u001b[0m\u001b[0;34m.\u001b[0m\u001b[0mml\u001b[0m\u001b[0;34m.\u001b[0m\u001b[0mregression\u001b[0m \u001b[0;32mimport\u001b[0m \u001b[0mLinearRegression\u001b[0m\u001b[0;34m\u001b[0m\u001b[0;34m\u001b[0m\u001b[0m\n",
            "\u001b[0;31mModuleNotFoundError\u001b[0m: No module named 'findspark'",
            "",
            "\u001b[0;31m---------------------------------------------------------------------------\u001b[0;32m\nNOTE: If your import is failing due to a missing package, you can\nmanually install dependencies using either !pip or !apt.\n\nTo view examples of installing some common dependencies, click the\n\"Open Examples\" button below.\n\u001b[0;31m---------------------------------------------------------------------------\u001b[0m\n"
          ],
          "errorDetails": {
            "actions": [
              {
                "action": "open_url",
                "actionText": "Open Examples",
                "url": "/notebooks/snippets/importing_libraries.ipynb"
              }
            ]
          }
        }
      ],
      "source": [
        "import findspark\n",
        "findspark.init()\n",
        "\n",
        "from pyspark.sql import SparkSession\n",
        "from pyspark.ml.regression import LinearRegression\n",
        "from pyspark.ml.feature import VectorAssembler\n",
        "\n",
        "spark = SparkSession.builder \\\n",
        "    .appName(\"Linear Regression with PySpark MLlib\") \\\n",
        "    .getOrCreate()\n",
        "\n",
        "\n",
        "\n",
        "data = spark.read.csv(\"C:/Users/BSG/Downloads/spark/car_data.csv\", header=True, inferSchema=True)\n",
        "data.show(5)\n",
        "\n",
        "assembler = VectorAssembler(\n",
        "    inputCols=[\"Year\", \"Present_Price\", \"Kms_Driven\", \"Owner\"],\n",
        "    outputCol=\"features\")\n",
        "\n",
        "data = assembler.transform(data)\n",
        "final_data = data.select(\"features\", \"Selling_Price\")\n",
        "\n",
        "train_data, test_data = final_data.randomSplit(weights=[0.75,0.25], seed=42)\n",
        "\n",
        "lr = LinearRegression(featuresCol=\"features\", labelCol=\"Selling_Price\")\n",
        "lr_model = lr.fit(train_data)\n",
        "\n",
        "pred_train = lr_model.evaluate(train_data)\n",
        "pred_train.predictions.show()\n",
        "\n",
        "pred = lr_model.evaluate(test_data)\n",
        "pred.predictions.show()\n",
        "\n",
        "print('RMSE for train set:', pred_train.rootMeanSquaredError)\n",
        "print('RMSE for test set:', pred.rootMeanSquaredError)\n",
        "\n",
        "spark.stop()\n",
        "\n",
        "# ypred = pred.predictions.select(\"Selling_Price\")\n",
        "\n",
        "# import matplotlib.pyplot as plt\n",
        "# plt.scatter(y_test, y_pred)\n",
        "# plt.xlabel('Actual Petal Width')\n",
        "# plt.ylabel('Predicted Petal Width')\n",
        "# plt.title('Actual vs Predicted Petal Width')\n",
        "# plt.show()\n",
        "\n",
        "\n",
        "# evaluator_r2 = RegressionEvaluator(labelCol=\"medv\", predictionCol=\"predicted_medv\", metricName=\"r2\")\n",
        "# r2 = evaluator_r2.evaluate(predictions)\n",
        "# print(\"R-squared (R2) on test data: {:.3f}\".format(r2))\n",
        "\n",
        "# from pyspark.ml.evaluation import RegressionEvaluator\n",
        "# from pyspark import SparkFiles\n",
        "\n",
        "#url = \"https://raw.githubusercontent.com/selva86/datasets/master/BostonHousing.csv\"\n",
        "#spark.sparkContext.addFile(url)\n",
        "\n",
        "#data = spark.read.csv(SparkFiles.get(\"BostonHousing.csv\"), header=True, inferSchema=True)"
      ]
    },
    {
      "cell_type": "code",
      "metadata": {
        "colab": {
          "base_uri": "https://localhost:8080/"
        },
        "id": "275d18e4",
        "outputId": "3d665025-c36a-4421-faaa-26cfd55a5bfd"
      },
      "source": [
        "!pip install findspark"
      ],
      "execution_count": 3,
      "outputs": [
        {
          "output_type": "stream",
          "name": "stdout",
          "text": [
            "Collecting findspark\n",
            "  Downloading findspark-2.0.1-py2.py3-none-any.whl.metadata (352 bytes)\n",
            "Downloading findspark-2.0.1-py2.py3-none-any.whl (4.4 kB)\n",
            "Installing collected packages: findspark\n",
            "Successfully installed findspark-2.0.1\n"
          ]
        }
      ]
    },
    {
      "cell_type": "code",
      "metadata": {
        "colab": {
          "base_uri": "https://localhost:8080/"
        },
        "id": "1d19494a",
        "outputId": "0eb6d5b0-f917-45ef-dae9-cccd388d4da6"
      },
      "source": [
        "import findspark\n",
        "findspark.init()\n",
        "\n",
        "from pyspark.sql import SparkSession\n",
        "from pyspark.ml.regression import LinearRegression\n",
        "from pyspark.ml.feature import VectorAssembler\n",
        "\n",
        "# Inisialisasi Spark: Memulai sesi Spark untuk melakukan komputasi terdistribusi.\n",
        "spark = SparkSession.builder \\\n",
        "    .appName(\"Linear Regression with PySpark MLlib\") \\\n",
        "    .getOrCreate()\n",
        "\n",
        "# Memuat Data: Data harga mobil dimuat dari file CSV ('car_data.csv') ke dalam DataFrame Spark.\n",
        "# Beberapa baris pertama data ditampilkan untuk memberikan gambaran.\n",
        "data = spark.read.csv(\"/content/car_data.csv\", header=True, inferSchema=True)\n",
        "data.show(5)\n",
        "\n",
        "# Persiapan Fitur: Kolom fitur yang akan digunakan untuk prediksi digabungkan menjadi satu kolom vektor bernama 'features'\n",
        "# menggunakan VectorAssembler. Kolom target yang ingin diprediksi adalah 'Selling_Price'.\n",
        "assembler = VectorAssembler(\n",
        "    inputCols=[\"Year\", \"Present_Price\", \"Kms_Driven\", \"Owner\"],\n",
        "    outputCol=\"features\")\n",
        "\n",
        "data = assembler.transform(data)\n",
        "final_data = data.select(\"features\", \"Selling_Price\")\n",
        "\n",
        "# Pembagian Data: Data dibagi menjadi data pelatihan (75%) dan data pengujian (25%) secara acak.\n",
        "# Data pelatihan digunakan untuk melatih model, dan data pengujian digunakan untuk mengevaluasi kinerja model\n",
        "# pada data yang belum pernah dilihat sebelumnya.\n",
        "train_data, test_data = final_data.randomSplit(weights=[0.75,0.25], seed=42)\n",
        "\n",
        "# Pelatihan Model: Model regresi linear dilatih menggunakan data pelatihan.\n",
        "lr = LinearRegression(featuresCol=\"features\", labelCol=\"Selling_Price\")\n",
        "lr_model = lr.fit(train_data)\n",
        "\n",
        "# Evaluasi Model: Model dievaluasi pada data pelatihan dan data pengujian.\n",
        "# Hasil prediksi pada kedua set data ditampilkan.\n",
        "pred_train = lr_model.evaluate(train_data)\n",
        "pred_train.predictions.show()\n",
        "\n",
        "pred = lr_model.evaluate(test_data)\n",
        "pred.predictions.show()\n",
        "\n",
        "# Menghitung RMSE: Root Mean Squared Error (RMSE) dihitung untuk data pelatihan dan data pengujian.\n",
        "# RMSE adalah metrik yang mengukur seberapa dekat prediksi model dengan nilai sebenarnya.\n",
        "# Nilai RMSE yang lebih kecil menunjukkan kinerja model yang lebih baik.\n",
        "print('RMSE for train set:', pred_train.rootMeanSquaredError)\n",
        "print('RMSE for test set:', pred.rootMeanSquaredError)\n",
        "\n",
        "# Penjelasan RMSE:\n",
        "print(\"\\nPenjelasan RMSE:\")\n",
        "print(\"RMSE adalah singkatan dari Root Mean Squared Error. Ini adalah salah satu metrik yang umum digunakan untuk mengevaluasi kinerja model regresi. RMSE mengukur rata-rata kesalahan kuadrat antara nilai yang diprediksi oleh model dan nilai sebenarnya.\")\n",
        "print(\"RMSE yang lebih kecil menunjukkan bahwa prediksi model lebih dekat dengan nilai sebenarnya, yang berarti model memiliki kinerja yang lebih baik.\")\n",
        "print(\"RMSE yang lebih besar menunjukkan bahwa ada perbedaan yang lebih besar antara prediksi model dan nilai sebenarnya, yang berarti kinerja model kurang baik.\")\n",
        "print(\"\\nDalam kasus ini:\")\n",
        "print(f\"RMSE for train set: {pred_train.rootMeanSquaredError}: Ini adalah nilai RMSE untuk data pelatihan. Ini berarti bahwa, rata-rata, prediksi harga jual mobil oleh model pada data yang digunakan untuk melatih model memiliki kesalahan sekitar {pred_train.rootMeanSquaredError:.2f} unit (dalam satuan yang sama dengan 'Selling_Price', yang kemungkinan adalah lakh Rupiah berdasarkan data yang umum digunakan untuk dataset ini).\")\n",
        "print(f\"RMSE for test set: {pred.rootMeanSquaredError}: Ini adalah nilai RMSE untuk data pengujian. Ini berarti bahwa, rata-rata, prediksi harga jual mobil oleh model pada data yang belum pernah dilihat sebelumnya (data pengujian) memiliki kesalahan sekitar {pred.rootMeanSquaredError:.2f} unit.\")\n",
        "print(\"\\nPerbandingan antara RMSE data pelatihan dan data pengujian penting:\")\n",
        "print(\"Jika RMSE data pengujian jauh lebih tinggi dari RMSE data pelatihan, ini bisa menjadi indikasi overfitting, di mana model terlalu \\\"menghafal\\\" data pelatihan dan tidak dapat digeneralisasi dengan baik ke data baru.\")\n",
        "print(\"Dalam kasus ini, nilai RMSE data pengujian (sekitar 2.02) sedikit lebih tinggi dari RMSE data pelatihan (sekitar 1.97). Perbedaan ini tidak terlalu besar, yang menunjukkan bahwa model cukup baik dalam menggeneralisasi ke data baru dan tidak menunjukkan tanda-tanda overfitting yang parah.\")\n",
        "print(\"\\nSecara keseluruhan, nilai RMSE ini memberikan gambaran tentang akurasi prediksi model regresi linear ini dalam memprediksi harga jual mobil.\")\n",
        "\n",
        "\n",
        "spark.stop()"
      ],
      "execution_count": 8,
      "outputs": [
        {
          "output_type": "stream",
          "name": "stdout",
          "text": [
            "+--------+----+-------------+-------------+----------+---------+-----------+------------+-----+\n",
            "|Car_Name|Year|Selling_Price|Present_Price|Kms_Driven|Fuel_Type|Seller_Type|Transmission|Owner|\n",
            "+--------+----+-------------+-------------+----------+---------+-----------+------------+-----+\n",
            "|    ritz|2014|         3.35|         5.59|     27000|   Petrol|     Dealer|      Manual|    0|\n",
            "|     sx4|2013|         4.75|         9.54|     43000|   Diesel|     Dealer|      Manual|    0|\n",
            "|    ciaz|2017|         7.25|         9.85|      6900|   Petrol|     Dealer|      Manual|    0|\n",
            "| wagon r|2011|         2.85|         4.15|      5200|   Petrol|     Dealer|      Manual|    0|\n",
            "|   swift|2014|          4.6|         6.87|     42450|   Diesel|     Dealer|      Manual|    0|\n",
            "+--------+----+-------------+-------------+----------+---------+-----------+------------+-----+\n",
            "only showing top 5 rows\n",
            "\n",
            "+--------------------+-------------+--------------------+\n",
            "|            features|Selling_Price|          prediction|\n",
            "+--------------------+-------------+--------------------+\n",
            "|[2003.0,2.28,1270...|         0.35| -3.2225914491643834|\n",
            "|[2003.0,7.98,6200...|         2.25|  0.5103456859753805|\n",
            "|[2005.0,0.57,5500...|          0.2|  -2.551376055881178|\n",
            "|[2005.0,10.21,900...|         2.75|  2.1254449253769963|\n",
            "|[2005.0,13.46,197...|         3.49|   2.625265150623136|\n",
            "|[2006.0,0.75,9223...|          0.1| -2.4980972177518197|\n",
            "|[2006.0,23.73,142...|          2.5|   5.826254583537548|\n",
            "|[2007.0,0.58,5300...|         0.12| -1.7655776896285715|\n",
            "|[2007.0,0.75,4900...|          0.2|  -2.699125798300315|\n",
            "|[2008.0,0.58,1900...|         0.25| -0.8096216706470614|\n",
            "|[2008.0,0.75,2600...|         0.25|  -2.060451617288777|\n",
            "|[2008.0,0.75,6000...|          0.2| -1.3761943739968956|\n",
            "|[2008.0,0.787,500...|          0.2| -1.2438154223618767|\n",
            "|[2008.0,7.15,5800...|         1.95|   2.013698756681947|\n",
            "|[2009.0,1.75,4000...|          0.9|-0.24525138734088614|\n",
            "|[2009.0,7.21,7742...|         2.25|   2.204891065721881|\n",
            "|[2009.0,10.0,6956...|          3.0|   3.761633155870186|\n",
            "|[2009.0,15.04,700...|          3.6|   6.408444873865847|\n",
            "|[2009.0,18.61,620...|          3.8|   8.377102274729282|\n",
            "|[2010.0,0.51,3300...|         0.16| -0.4396523703380808|\n",
            "+--------------------+-------------+--------------------+\n",
            "only showing top 20 rows\n",
            "\n",
            "+--------------------+-------------+--------------------+\n",
            "|            features|Selling_Price|          prediction|\n",
            "+--------------------+-------------+--------------------+\n",
            "|[2004.0,12.35,135...|          1.5|  2.3625707415187662|\n",
            "|[2005.0,13.7,7500...|         3.51|   4.131049121599517|\n",
            "|[2006.0,4.15,6500...|         1.05|-0.40172096394360324|\n",
            "|[2006.0,7.6,50456...|          2.1|  1.5776887669329653|\n",
            "|[2008.0,0.52,5000...|         0.17|  -6.465321294491446|\n",
            "|[2008.0,22.78,890...|          4.0|   9.887276858135237|\n",
            "|[2009.0,11.0,8793...|         3.35|   4.080334117625853|\n",
            "|[2010.0,0.95,2700...|         0.45|-0.14040274162164224|\n",
            "|[2010.0,1.05,2130...|         0.31|  -2.187945872126079|\n",
            "|[2010.0,6.79,5800...|         3.25|  1.5140851543985718|\n",
            "|[2010.0,7.98,4144...|         2.65|   3.395310650985607|\n",
            "|[2010.0,9.9,38000...|         3.25|   4.444368091381762|\n",
            "|[2011.0,0.787,750...|         0.38| -0.3891627287642905|\n",
            "|[2011.0,1.05,3000...|         0.35|  0.2573152866507371|\n",
            "|[2011.0,1.5,6900....|         1.05|  0.7549053217305755|\n",
            "|[2011.0,4.15,5200...|         2.85|  2.1683774337850537|\n",
            "|[2011.0,4.6,22517...|          2.7|  2.2096123071127067|\n",
            "|[2011.0,4.89,5420...|         2.35|  2.0044554823377894|\n",
            "|[2011.0,7.74,4999...|         2.95|   3.551406560552664|\n",
            "|[2012.0,0.81,1900...|          0.6|    0.63422128957518|\n",
            "+--------------------+-------------+--------------------+\n",
            "only showing top 20 rows\n",
            "\n",
            "RMSE for train set: 1.9702166887296308\n",
            "RMSE for test set: 2.020857083342057\n",
            "\n",
            "Penjelasan RMSE:\n",
            "RMSE adalah singkatan dari Root Mean Squared Error. Ini adalah salah satu metrik yang umum digunakan untuk mengevaluasi kinerja model regresi. RMSE mengukur rata-rata kesalahan kuadrat antara nilai yang diprediksi oleh model dan nilai sebenarnya.\n",
            "RMSE yang lebih kecil menunjukkan bahwa prediksi model lebih dekat dengan nilai sebenarnya, yang berarti model memiliki kinerja yang lebih baik.\n",
            "RMSE yang lebih besar menunjukkan bahwa ada perbedaan yang lebih besar antara prediksi model dan nilai sebenarnya, yang berarti kinerja model kurang baik.\n",
            "\n",
            "Dalam kasus ini:\n",
            "RMSE for train set: 1.9702166887296308: Ini adalah nilai RMSE untuk data pelatihan. Ini berarti bahwa, rata-rata, prediksi harga jual mobil oleh model pada data yang digunakan untuk melatih model memiliki kesalahan sekitar 1.97 unit (dalam satuan yang sama dengan 'Selling_Price', yang kemungkinan adalah lakh Rupiah berdasarkan data yang umum digunakan untuk dataset ini).\n",
            "RMSE for test set: 2.020857083342057: Ini adalah nilai RMSE untuk data pengujian. Ini berarti bahwa, rata-rata, prediksi harga jual mobil oleh model pada data yang belum pernah dilihat sebelumnya (data pengujian) memiliki kesalahan sekitar 2.02 unit.\n",
            "\n",
            "Perbandingan antara RMSE data pelatihan dan data pengujian penting:\n",
            "Jika RMSE data pengujian jauh lebih tinggi dari RMSE data pelatihan, ini bisa menjadi indikasi overfitting, di mana model terlalu \"menghafal\" data pelatihan dan tidak dapat digeneralisasi dengan baik ke data baru.\n",
            "Dalam kasus ini, nilai RMSE data pengujian (sekitar 2.02) sedikit lebih tinggi dari RMSE data pelatihan (sekitar 1.97). Perbedaan ini tidak terlalu besar, yang menunjukkan bahwa model cukup baik dalam menggeneralisasi ke data baru dan tidak menunjukkan tanda-tanda overfitting yang parah.\n",
            "\n",
            "Secara keseluruhan, nilai RMSE ini memberikan gambaran tentang akurasi prediksi model regresi linear ini dalam memprediksi harga jual mobil.\n"
          ]
        }
      ]
    }
  ]
}